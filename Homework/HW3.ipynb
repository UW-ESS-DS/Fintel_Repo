{
 "cells": [
  {
   "cell_type": "markdown",
   "metadata": {},
   "source": [
    "# Homework 3"
   ]
  },
  {
   "cell_type": "markdown",
   "metadata": {},
   "source": [
    "I have a catalog of repeating earthquakes, and I want to download seismic waveforms corresponding to these repeating earthquakes. However, when I look at the list of stations available in the seismic network, there are more than 6000. I do not want to download data from 6000 stations, so I want to filter only the seismic stations that are relevant for what I want to do with my waveforms."
   ]
  },
  {
   "cell_type": "code",
   "execution_count": 1,
   "metadata": {},
   "outputs": [],
   "source": [
    "# Address of the website to download data\n",
    "url = 'http://ncedc.org/ftp/pub/doc/NC.info/NC.channel.summary.day'"
   ]
  },
  {
   "cell_type": "code",
   "execution_count": 2,
   "metadata": {},
   "outputs": [],
   "source": [
    "# Useful Python modules\n",
    "import numpy as np\n",
    "import pandas as pd\n",
    "import io\n",
    "import pickle\n",
    "import requests\n",
    "from datetime import datetime, timedelta\n",
    "from math import cos, sin, pi, sqrt"
   ]
  },
  {
   "cell_type": "code",
   "execution_count": 3,
   "metadata": {},
   "outputs": [],
   "source": [
    "# Import the data from the website into a Python dataframe\n",
    "s = requests.get(url).content\n",
    "data = pd.read_csv(io.StringIO(s.decode('utf-8')), header=None, skiprows=2, sep='\\s+', usecols=list(range(0, 13)))\n",
    "data.columns = ['station', 'network', 'channel', 'location', 'rate', 'start_time', 'end_time', 'latitude', 'longitude', 'elevation', 'depth', 'dip', 'azimuth']"
   ]
  },
  {
   "cell_type": "code",
   "execution_count": 4,
   "metadata": {},
   "outputs": [],
   "source": [
    "# Transform columns start_time and end_time into datetime format\n",
    "startdate = pd.to_datetime(data['start_time'], format='%Y/%m/%d,%H:%M:%S')\n",
    "data['start_time'] = startdate\n",
    "# Avoid 'OutOfBoundsDatetime' error with year 3000\n",
    "enddate = data['end_time'].str.replace('3000', '2025')\n",
    "enddate = pd.to_datetime(enddate, format='%Y/%m/%d,%H:%M:%S')\n",
    "data['end_time'] = enddate"
   ]
  },
  {
   "cell_type": "markdown",
   "metadata": {},
   "source": [
    "After discussing with my adviser, we decided than only the following channels are relevant for the work we want to do:"
   ]
  },
  {
   "cell_type": "code",
   "execution_count": 5,
   "metadata": {},
   "outputs": [],
   "source": [
    "channels = ['BHE', 'BHN', 'BHZ', 'BH1', 'BH2', \\\n",
    "            'EHE', 'EHN', 'EHZ', 'EH1', 'EH2', \\\n",
    "            'HHE', 'HHN', 'HHZ', 'HH1', 'HH2', \\\n",
    "            'SHE', 'SHN', 'SHZ', 'SH1', 'SH2']"
   ]
  },
  {
   "cell_type": "markdown",
   "metadata": {},
   "source": [
    "## First question\n",
    "\n",
    "Filter the dataset to keep only the rows with the channels as defined above."
   ]
  },
  {
   "cell_type": "code",
   "execution_count": 6,
   "metadata": {},
   "outputs": [],
   "source": [
    "data_channels = data.loc[data.channel.isin(channels)]\n"
   ]
  },
  {
   "cell_type": "markdown",
   "metadata": {},
   "source": [
    "My earthquake catalog starts on 2007/07/01 and ends on 2009/07/01. I am only interested in stations that started recording before 2007/07/01 and ended recording after 2009/07/01."
   ]
  },
  {
   "cell_type": "markdown",
   "metadata": {},
   "source": [
    "## Second question\n",
    "\n",
    "Filter the dataset to keep only stations that started recording before 2007/07/01 and ended recording after 2009/07/01."
   ]
  },
  {
   "cell_type": "code",
   "execution_count": 7,
   "metadata": {},
   "outputs": [
    {
     "data": {
      "text/html": [
       "<div>\n",
       "<style scoped>\n",
       "    .dataframe tbody tr th:only-of-type {\n",
       "        vertical-align: middle;\n",
       "    }\n",
       "\n",
       "    .dataframe tbody tr th {\n",
       "        vertical-align: top;\n",
       "    }\n",
       "\n",
       "    .dataframe thead th {\n",
       "        text-align: right;\n",
       "    }\n",
       "</style>\n",
       "<table border=\"1\" class=\"dataframe\">\n",
       "  <thead>\n",
       "    <tr style=\"text-align: right;\">\n",
       "      <th></th>\n",
       "      <th>station</th>\n",
       "      <th>network</th>\n",
       "      <th>channel</th>\n",
       "      <th>location</th>\n",
       "      <th>rate</th>\n",
       "      <th>start_time</th>\n",
       "      <th>end_time</th>\n",
       "      <th>latitude</th>\n",
       "      <th>longitude</th>\n",
       "      <th>elevation</th>\n",
       "      <th>depth</th>\n",
       "      <th>dip</th>\n",
       "      <th>azimuth</th>\n",
       "    </tr>\n",
       "  </thead>\n",
       "  <tbody>\n",
       "    <tr>\n",
       "      <th>4</th>\n",
       "      <td>AAS</td>\n",
       "      <td>NC</td>\n",
       "      <td>EHZ</td>\n",
       "      <td>--</td>\n",
       "      <td>100.0</td>\n",
       "      <td>1987-05-01 00:00:00</td>\n",
       "      <td>2025-01-01 00:00:00</td>\n",
       "      <td>38.43014</td>\n",
       "      <td>-121.10959</td>\n",
       "      <td>31.0</td>\n",
       "      <td>0.0</td>\n",
       "      <td>-90.0</td>\n",
       "      <td>0.0</td>\n",
       "    </tr>\n",
       "    <tr>\n",
       "      <th>8</th>\n",
       "      <td>ABJ</td>\n",
       "      <td>NC</td>\n",
       "      <td>EHZ</td>\n",
       "      <td>--</td>\n",
       "      <td>100.0</td>\n",
       "      <td>1992-11-10 20:00:00</td>\n",
       "      <td>2019-06-26 19:17:00</td>\n",
       "      <td>39.16577</td>\n",
       "      <td>-121.19299</td>\n",
       "      <td>434.0</td>\n",
       "      <td>0.0</td>\n",
       "      <td>-90.0</td>\n",
       "      <td>0.0</td>\n",
       "    </tr>\n",
       "    <tr>\n",
       "      <th>80</th>\n",
       "      <td>AOH</td>\n",
       "      <td>NC</td>\n",
       "      <td>EHZ</td>\n",
       "      <td>--</td>\n",
       "      <td>100.0</td>\n",
       "      <td>1987-05-01 00:00:00</td>\n",
       "      <td>2019-06-20 18:43:00</td>\n",
       "      <td>39.37627</td>\n",
       "      <td>-121.25767</td>\n",
       "      <td>410.0</td>\n",
       "      <td>0.0</td>\n",
       "      <td>-90.0</td>\n",
       "      <td>0.0</td>\n",
       "    </tr>\n",
       "    <tr>\n",
       "      <th>111</th>\n",
       "      <td>BAP</td>\n",
       "      <td>NC</td>\n",
       "      <td>SHZ</td>\n",
       "      <td>--</td>\n",
       "      <td>50.0</td>\n",
       "      <td>2004-01-22 22:00:00</td>\n",
       "      <td>2011-07-08 17:04:00</td>\n",
       "      <td>36.18042</td>\n",
       "      <td>-121.64440</td>\n",
       "      <td>1193.0</td>\n",
       "      <td>0.0</td>\n",
       "      <td>-90.0</td>\n",
       "      <td>0.0</td>\n",
       "    </tr>\n",
       "    <tr>\n",
       "      <th>116</th>\n",
       "      <td>BAV</td>\n",
       "      <td>NC</td>\n",
       "      <td>EHZ</td>\n",
       "      <td>--</td>\n",
       "      <td>100.0</td>\n",
       "      <td>2004-01-16 01:06:00</td>\n",
       "      <td>2020-06-01 18:40:00</td>\n",
       "      <td>36.64595</td>\n",
       "      <td>-121.03015</td>\n",
       "      <td>572.0</td>\n",
       "      <td>0.0</td>\n",
       "      <td>-90.0</td>\n",
       "      <td>0.0</td>\n",
       "    </tr>\n",
       "  </tbody>\n",
       "</table>\n",
       "</div>"
      ],
      "text/plain": [
       "    station network channel location   rate          start_time  \\\n",
       "4       AAS      NC     EHZ       --  100.0 1987-05-01 00:00:00   \n",
       "8       ABJ      NC     EHZ       --  100.0 1992-11-10 20:00:00   \n",
       "80      AOH      NC     EHZ       --  100.0 1987-05-01 00:00:00   \n",
       "111     BAP      NC     SHZ       --   50.0 2004-01-22 22:00:00   \n",
       "116     BAV      NC     EHZ       --  100.0 2004-01-16 01:06:00   \n",
       "\n",
       "               end_time  latitude  longitude  elevation  depth   dip  azimuth  \n",
       "4   2025-01-01 00:00:00  38.43014 -121.10959       31.0    0.0 -90.0      0.0  \n",
       "8   2019-06-26 19:17:00  39.16577 -121.19299      434.0    0.0 -90.0      0.0  \n",
       "80  2019-06-20 18:43:00  39.37627 -121.25767      410.0    0.0 -90.0      0.0  \n",
       "111 2011-07-08 17:04:00  36.18042 -121.64440     1193.0    0.0 -90.0      0.0  \n",
       "116 2020-06-01 18:40:00  36.64595 -121.03015      572.0    0.0 -90.0      0.0  "
      ]
     },
     "execution_count": 7,
     "metadata": {},
     "output_type": "execute_result"
    }
   ],
   "source": [
    "data_dates = data.loc[(data.start_time<='2007-07-01 00:00:00')&(data.end_time>='2009-07-01 00:00:00')]\n",
    "data_dates.head()"
   ]
  },
  {
   "cell_type": "markdown",
   "metadata": {},
   "source": [
    "I only want to keep the stations that are located less than 100 km from my repeating earthquakes. For stations farther away, the signal-to-noise ratio would be too low.\n",
    "\n",
    "The earthquakes are located at latitude = 40.09 and longitude = -122.87. Here is a function to compute the distance from the station to the earthquakes, and to add a column distance to the dataset"
   ]
  },
  {
   "cell_type": "code",
   "execution_count": 8,
   "metadata": {},
   "outputs": [
    {
     "name": "stderr",
     "output_type": "stream",
     "text": [
      "<ipython-input-8-a108f7bf043a>:9: SettingWithCopyWarning: \n",
      "A value is trying to be set on a copy of a slice from a DataFrame.\n",
      "Try using .loc[row_indexer,col_indexer] = value instead\n",
      "\n",
      "See the caveats in the documentation: https://pandas.pydata.org/pandas-docs/stable/user_guide/indexing.html#returning-a-view-versus-a-copy\n",
      "  data_dates['distance'] = np.sqrt(np.power(x, 2.0) + np.power(y, 2.0))\n"
     ]
    }
   ],
   "source": [
    "a = 6378.136\n",
    "e = 0.006694470\n",
    "lat0 = 40.09000\n",
    "lon0 = -122.87000\n",
    "dx = (pi / 180.0) * a * cos(lat0 * pi / 180.0) / sqrt(1.0 - e * e * sin(lat0 * pi / 180.0) * sin(lat0 * pi / 180.0))\n",
    "dy = (3.6 * pi / 648.0) * a * (1.0 - e * e) / ((1.0 - e * e * sin(lat0 * pi / 180.0) * sin(lat0 * pi / 180.0)) ** 1.5)\n",
    "x = dx * (data_dates['longitude'] - lon0)\n",
    "y = dy * (data_dates['latitude'] - lat0)\n",
    "data_dates['distance'] = np.sqrt(np.power(x, 2.0) + np.power(y, 2.0))"
   ]
  },
  {
   "cell_type": "markdown",
   "metadata": {},
   "source": [
    "## Third question\n",
    "\n",
    "Filter the dataset to keep only stations that are less than 100 km from the earthquakes."
   ]
  },
  {
   "cell_type": "code",
   "execution_count": 9,
   "metadata": {},
   "outputs": [],
   "source": [
    "data_distance = data_dates.loc[data_dates.distance<=100]"
   ]
  },
  {
   "cell_type": "markdown",
   "metadata": {},
   "source": [
    "Finally, I want to group the result such that the final result looks like:\n",
    "\n",
    "|station|network|location|latitude|longitude |elevation|depth|distance |channel    |start_time         |end_time           |\n",
    "|-------|-------|--------|--------|----------|---------|-----|---------|-----------|-------------------|-------------------|\n",
    "|KBS \t|NC \t|-- \t |39.91719|-123.59561|1120.0   |0.0  |64.720762|SHZ        |2002-10-17 00:00:00|2011-10-27 21:25:00|\n",
    "|KCPB \t|NC \t|-- \t |39.68631|-123.58242|1261.0   |0.0  |75.502041|HHZ,HHN,HHE|2006-10-18 00:08:00|2010-11-01 22:00:00|"
   ]
  },
  {
   "cell_type": "markdown",
   "metadata": {},
   "source": [
    "I want all different channels to be grouped together, instead of having one row per channel. I also want to get the start_time end end_time for each station, instead of having it for each channel."
   ]
  },
  {
   "cell_type": "markdown",
   "metadata": {},
   "source": [
    "You can use the following function to group the channels together:"
   ]
  },
  {
   "cell_type": "code",
   "execution_count": 10,
   "metadata": {},
   "outputs": [],
   "source": [
    "def f(x):\n",
    "    \"\"\"\n",
    "    Concatenate channels\n",
    "    \"\"\"\n",
    "    result = '%s' % ','.join(x)\n",
    "    result = list(set(result.split(',')))\n",
    "    result = '%s' % ','.join(result)\n",
    "    return result"
   ]
  },
  {
   "cell_type": "markdown",
   "metadata": {},
   "source": [
    "## Fourth question\n",
    "\n",
    "Use the pandas function agg to group the channels of a given station together, and compute the least recent start_time and the most recent end_time for each station."
   ]
  },
  {
   "cell_type": "code",
   "execution_count": 11,
   "metadata": {},
   "outputs": [
    {
     "data": {
      "text/html": [
       "<div>\n",
       "<style scoped>\n",
       "    .dataframe tbody tr th:only-of-type {\n",
       "        vertical-align: middle;\n",
       "    }\n",
       "\n",
       "    .dataframe tbody tr th {\n",
       "        vertical-align: top;\n",
       "    }\n",
       "\n",
       "    .dataframe thead th {\n",
       "        text-align: right;\n",
       "    }\n",
       "</style>\n",
       "<table border=\"1\" class=\"dataframe\">\n",
       "  <thead>\n",
       "    <tr style=\"text-align: right;\">\n",
       "      <th></th>\n",
       "      <th></th>\n",
       "      <th></th>\n",
       "      <th></th>\n",
       "      <th></th>\n",
       "      <th></th>\n",
       "      <th></th>\n",
       "      <th></th>\n",
       "      <th>channel</th>\n",
       "      <th>start_time</th>\n",
       "      <th>end_time</th>\n",
       "    </tr>\n",
       "    <tr>\n",
       "      <th>station</th>\n",
       "      <th>network</th>\n",
       "      <th>location</th>\n",
       "      <th>latitude</th>\n",
       "      <th>longitude</th>\n",
       "      <th>elevation</th>\n",
       "      <th>depth</th>\n",
       "      <th>distance</th>\n",
       "      <th></th>\n",
       "      <th></th>\n",
       "      <th></th>\n",
       "    </tr>\n",
       "  </thead>\n",
       "  <tbody>\n",
       "    <tr>\n",
       "      <th>GBB</th>\n",
       "      <th>NC</th>\n",
       "      <th>--</th>\n",
       "      <th>39.80127</th>\n",
       "      <th>-122.34550</th>\n",
       "      <th>170.0</th>\n",
       "      <th>0.0</th>\n",
       "      <th>55.029997</th>\n",
       "      <td>EHZ</td>\n",
       "      <td>2000-12-06 18:38:00</td>\n",
       "      <td>2025-01-01 00:00:00</td>\n",
       "    </tr>\n",
       "    <tr>\n",
       "      <th>GCK</th>\n",
       "      <th>NC</th>\n",
       "      <th>--</th>\n",
       "      <th>39.54375</th>\n",
       "      <th>-122.43668</th>\n",
       "      <th>251.0</th>\n",
       "      <th>0.0</th>\n",
       "      <th>71.129241</th>\n",
       "      <td>EHZ</td>\n",
       "      <td>2000-06-06 21:58:00</td>\n",
       "      <td>2025-01-01 00:00:00</td>\n",
       "    </tr>\n",
       "    <tr>\n",
       "      <th>GFC</th>\n",
       "      <th>NC</th>\n",
       "      <th>--</th>\n",
       "      <th>39.32655</th>\n",
       "      <th>-122.28886</th>\n",
       "      <th>64.0</th>\n",
       "      <th>0.0</th>\n",
       "      <th>98.346307</th>\n",
       "      <td>EHZ</td>\n",
       "      <td>2001-04-03 23:25:00</td>\n",
       "      <td>2020-03-18 22:53:00</td>\n",
       "    </tr>\n",
       "    <tr>\n",
       "      <th>GHM</th>\n",
       "      <th>NC</th>\n",
       "      <th>--</th>\n",
       "      <th>39.49545</th>\n",
       "      <th>-122.93096</th>\n",
       "      <th>1456.0</th>\n",
       "      <th>0.0</th>\n",
       "      <th>66.387179</th>\n",
       "      <td>EHZ</td>\n",
       "      <td>1987-05-01 00:00:00</td>\n",
       "      <td>2025-01-01 00:00:00</td>\n",
       "    </tr>\n",
       "    <tr>\n",
       "      <th>GRO</th>\n",
       "      <th>NC</th>\n",
       "      <th>--</th>\n",
       "      <th>39.91684</th>\n",
       "      <th>-122.67117</th>\n",
       "      <th>1261.0</th>\n",
       "      <th>0.0</th>\n",
       "      <th>25.657089</th>\n",
       "      <td>EHZ</td>\n",
       "      <td>1990-12-13 23:30:00</td>\n",
       "      <td>2025-01-01 00:00:00</td>\n",
       "    </tr>\n",
       "  </tbody>\n",
       "</table>\n",
       "</div>"
      ],
      "text/plain": [
       "                                                                       channel  \\\n",
       "station network location latitude longitude  elevation depth distance            \n",
       "GBB     NC      --       39.80127 -122.34550 170.0     0.0   55.029997     EHZ   \n",
       "GCK     NC      --       39.54375 -122.43668 251.0     0.0   71.129241     EHZ   \n",
       "GFC     NC      --       39.32655 -122.28886 64.0      0.0   98.346307     EHZ   \n",
       "GHM     NC      --       39.49545 -122.93096 1456.0    0.0   66.387179     EHZ   \n",
       "GRO     NC      --       39.91684 -122.67117 1261.0    0.0   25.657089     EHZ   \n",
       "\n",
       "                                                                                start_time  \\\n",
       "station network location latitude longitude  elevation depth distance                        \n",
       "GBB     NC      --       39.80127 -122.34550 170.0     0.0   55.029997 2000-12-06 18:38:00   \n",
       "GCK     NC      --       39.54375 -122.43668 251.0     0.0   71.129241 2000-06-06 21:58:00   \n",
       "GFC     NC      --       39.32655 -122.28886 64.0      0.0   98.346307 2001-04-03 23:25:00   \n",
       "GHM     NC      --       39.49545 -122.93096 1456.0    0.0   66.387179 1987-05-01 00:00:00   \n",
       "GRO     NC      --       39.91684 -122.67117 1261.0    0.0   25.657089 1990-12-13 23:30:00   \n",
       "\n",
       "                                                                                  end_time  \n",
       "station network location latitude longitude  elevation depth distance                       \n",
       "GBB     NC      --       39.80127 -122.34550 170.0     0.0   55.029997 2025-01-01 00:00:00  \n",
       "GCK     NC      --       39.54375 -122.43668 251.0     0.0   71.129241 2025-01-01 00:00:00  \n",
       "GFC     NC      --       39.32655 -122.28886 64.0      0.0   98.346307 2020-03-18 22:53:00  \n",
       "GHM     NC      --       39.49545 -122.93096 1456.0    0.0   66.387179 2025-01-01 00:00:00  \n",
       "GRO     NC      --       39.91684 -122.67117 1261.0    0.0   25.657089 2025-01-01 00:00:00  "
      ]
     },
     "execution_count": 11,
     "metadata": {},
     "output_type": "execute_result"
    }
   ],
   "source": [
    "final_data = data_distance.groupby(['station', 'network','location','latitude',\\\n",
    "                                    'longitude','elevation','depth','distance']).agg({'channel':lambda x: f(x),\\\n",
    "                                                                                      'start_time':lambda x: min(x),\\\n",
    "                                                                                      'end_time':lambda x: max(x)})\n",
    "final_data.head()"
   ]
  },
  {
   "cell_type": "markdown",
   "metadata": {},
   "source": [
    "## Fifth question\n",
    "\n",
    "How many stations are left in the dataset?"
   ]
  },
  {
   "cell_type": "code",
   "execution_count": 12,
   "metadata": {},
   "outputs": [
    {
     "data": {
      "text/plain": [
       "28"
      ]
     },
     "execution_count": 12,
     "metadata": {},
     "output_type": "execute_result"
    }
   ],
   "source": [
    "len(final_data)"
   ]
  },
  {
   "cell_type": "code",
   "execution_count": null,
   "metadata": {},
   "outputs": [],
   "source": []
  }
 ],
 "metadata": {
  "kernelspec": {
   "display_name": "Python 3",
   "language": "python",
   "name": "python3"
  },
  "language_info": {
   "codemirror_mode": {
    "name": "ipython",
    "version": 3
   },
   "file_extension": ".py",
   "mimetype": "text/x-python",
   "name": "python",
   "nbconvert_exporter": "python",
   "pygments_lexer": "ipython3",
   "version": "3.8.5"
  }
 },
 "nbformat": 4,
 "nbformat_minor": 5
}
